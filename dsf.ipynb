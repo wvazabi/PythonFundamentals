{
 "cells": [
  {
   "cell_type": "code",
   "execution_count": 1,
   "id": "15de444c",
   "metadata": {},
   "outputs": [],
   "source": [
    "myList = [1,2,4,67,765,435] "
   ]
  },
  {
   "cell_type": "code",
   "execution_count": 2,
   "id": "1b071eb0",
   "metadata": {},
   "outputs": [
    {
     "data": {
      "text/plain": [
       "list"
      ]
     },
     "execution_count": 2,
     "metadata": {},
     "output_type": "execute_result"
    }
   ],
   "source": [
    "type(myList)"
   ]
  },
  {
   "cell_type": "code",
   "execution_count": 3,
   "id": "b00a096d",
   "metadata": {},
   "outputs": [],
   "source": [
    "myList.append(\"z\")"
   ]
  },
  {
   "cell_type": "code",
   "execution_count": 4,
   "id": "911843f2",
   "metadata": {},
   "outputs": [
    {
     "data": {
      "text/plain": [
       "[1, 2, 4, 67, 765, 435, 'z']"
      ]
     },
     "execution_count": 4,
     "metadata": {},
     "output_type": "execute_result"
    }
   ],
   "source": [
    "myList"
   ]
  },
  {
   "cell_type": "code",
   "execution_count": 5,
   "id": "ffdcd203",
   "metadata": {},
   "outputs": [],
   "source": [
    "myList = [2,43,54,3,\"fdf\",7.34434]"
   ]
  },
  {
   "cell_type": "code",
   "execution_count": 6,
   "id": "f27079c5",
   "metadata": {},
   "outputs": [
    {
     "data": {
      "text/plain": [
       "[2, 43, 54, 3, 'fdf', 7.34434]"
      ]
     },
     "execution_count": 6,
     "metadata": {},
     "output_type": "execute_result"
    }
   ],
   "source": [
    "myList"
   ]
  },
  {
   "cell_type": "code",
   "execution_count": 7,
   "id": "1f2304bc",
   "metadata": {},
   "outputs": [],
   "source": [
    "myMixList = [34,\"test\"]"
   ]
  },
  {
   "cell_type": "code",
   "execution_count": 8,
   "id": "20bb8df2",
   "metadata": {},
   "outputs": [
    {
     "data": {
      "text/plain": [
       "list"
      ]
     },
     "execution_count": 8,
     "metadata": {},
     "output_type": "execute_result"
    }
   ],
   "source": [
    "type(myMixList)"
   ]
  },
  {
   "cell_type": "code",
   "execution_count": 10,
   "id": "808d6ba0",
   "metadata": {},
   "outputs": [],
   "source": [
    "x = myMixList[1]"
   ]
  },
  {
   "cell_type": "code",
   "execution_count": 11,
   "id": "39960ffa",
   "metadata": {},
   "outputs": [
    {
     "data": {
      "text/plain": [
       "str"
      ]
     },
     "execution_count": 11,
     "metadata": {},
     "output_type": "execute_result"
    }
   ],
   "source": [
    "type(x)"
   ]
  },
  {
   "cell_type": "code",
   "execution_count": 12,
   "id": "50207c60",
   "metadata": {},
   "outputs": [],
   "source": [
    "y = myMixList[0]"
   ]
  },
  {
   "cell_type": "code",
   "execution_count": 13,
   "id": "5b752427",
   "metadata": {},
   "outputs": [
    {
     "data": {
      "text/plain": [
       "int"
      ]
     },
     "execution_count": 13,
     "metadata": {},
     "output_type": "execute_result"
    }
   ],
   "source": [
    "type(y)"
   ]
  },
  {
   "cell_type": "code",
   "execution_count": 15,
   "id": "9d7ae05d",
   "metadata": {},
   "outputs": [
    {
     "data": {
      "text/plain": [
       "[54, 'fdf']"
      ]
     },
     "execution_count": 15,
     "metadata": {},
     "output_type": "execute_result"
    }
   ],
   "source": [
    "myList[2:6:2]"
   ]
  },
  {
   "cell_type": "code",
   "execution_count": null,
   "id": "ff52ed52",
   "metadata": {},
   "outputs": [],
   "source": []
  },
  {
   "cell_type": "code",
   "execution_count": 16,
   "id": "e1ab6169",
   "metadata": {},
   "outputs": [],
   "source": [
    "nestedList = [[1,2],[\"df\",\"gfdf\"],[34,343]]"
   ]
  },
  {
   "cell_type": "code",
   "execution_count": 18,
   "id": "5aeddb79",
   "metadata": {},
   "outputs": [
    {
     "data": {
      "text/plain": [
       "'gfdf'"
      ]
     },
     "execution_count": 18,
     "metadata": {},
     "output_type": "execute_result"
    }
   ],
   "source": [
    "nestedList[1][1]"
   ]
  },
  {
   "cell_type": "raw",
   "id": "4857fba8",
   "metadata": {},
   "source": [
    "  \n",
    "  "
   ]
  },
  {
   "cell_type": "code",
   "execution_count": 19,
   "id": "8859f793",
   "metadata": {},
   "outputs": [],
   "source": [
    "nestedList[0] = 100"
   ]
  },
  {
   "cell_type": "code",
   "execution_count": 20,
   "id": "e7f4ee68",
   "metadata": {},
   "outputs": [
    {
     "data": {
      "text/plain": [
       "100"
      ]
     },
     "execution_count": 20,
     "metadata": {},
     "output_type": "execute_result"
    }
   ],
   "source": [
    "nestedList[0]"
   ]
  },
  {
   "cell_type": "code",
   "execution_count": 21,
   "id": "afcf1a8a",
   "metadata": {},
   "outputs": [],
   "source": [
    "#Dictionary"
   ]
  },
  {
   "cell_type": "code",
   "execution_count": 22,
   "id": "51db4f3f",
   "metadata": {},
   "outputs": [],
   "source": [
    "#key - vcalue pairing"
   ]
  },
  {
   "cell_type": "code",
   "execution_count": 23,
   "id": "cb684250",
   "metadata": {},
   "outputs": [],
   "source": [
    "dictionary = {\"apple\":100,\"banana\":200}"
   ]
  },
  {
   "cell_type": "code",
   "execution_count": 24,
   "id": "992d7136",
   "metadata": {},
   "outputs": [
    {
     "data": {
      "text/plain": [
       "100"
      ]
     },
     "execution_count": 24,
     "metadata": {},
     "output_type": "execute_result"
    }
   ],
   "source": [
    "dictionary[\"apple\"]"
   ]
  },
  {
   "cell_type": "code",
   "execution_count": 25,
   "id": "88cb28df",
   "metadata": {},
   "outputs": [
    {
     "data": {
      "text/plain": [
       "dict_values([100, 200])"
      ]
     },
     "execution_count": 25,
     "metadata": {},
     "output_type": "execute_result"
    }
   ],
   "source": [
    "dictionary.values()"
   ]
  },
  {
   "cell_type": "code",
   "execution_count": 26,
   "id": "13507b09",
   "metadata": {},
   "outputs": [
    {
     "data": {
      "text/plain": [
       "dict_items([('apple', 100), ('banana', 200)])"
      ]
     },
     "execution_count": 26,
     "metadata": {},
     "output_type": "execute_result"
    }
   ],
   "source": [
    "dictionary.items()"
   ]
  },
  {
   "cell_type": "code",
   "execution_count": 27,
   "id": "c9ecebb2",
   "metadata": {},
   "outputs": [
    {
     "data": {
      "text/plain": [
       "100"
      ]
     },
     "execution_count": 27,
     "metadata": {},
     "output_type": "execute_result"
    }
   ],
   "source": [
    "dictionary.get(\"enes\",100)"
   ]
  },
  {
   "cell_type": "code",
   "execution_count": 28,
   "id": "9374ac75",
   "metadata": {},
   "outputs": [
    {
     "data": {
      "text/plain": [
       "100"
      ]
     },
     "execution_count": 28,
     "metadata": {},
     "output_type": "execute_result"
    }
   ],
   "source": [
    "dictionary.get(\"apple\")"
   ]
  },
  {
   "cell_type": "code",
   "execution_count": 29,
   "id": "56990ecd",
   "metadata": {},
   "outputs": [
    {
     "data": {
      "text/plain": [
       "200"
      ]
     },
     "execution_count": 29,
     "metadata": {},
     "output_type": "execute_result"
    }
   ],
   "source": [
    "dictionary.pop(\"banana\")"
   ]
  },
  {
   "cell_type": "code",
   "execution_count": 30,
   "id": "4532c7fd",
   "metadata": {},
   "outputs": [
    {
     "data": {
      "text/plain": [
       "dict_items([('apple', 100)])"
      ]
     },
     "execution_count": 30,
     "metadata": {},
     "output_type": "execute_result"
    }
   ],
   "source": [
    "dictionary.items()"
   ]
  },
  {
   "cell_type": "code",
   "execution_count": null,
   "id": "3e2a3264",
   "metadata": {},
   "outputs": [],
   "source": [
    "\n"
   ]
  },
  {
   "cell_type": "code",
   "execution_count": null,
   "id": "95341f0a",
   "metadata": {},
   "outputs": [],
   "source": []
  },
  {
   "cell_type": "code",
   "execution_count": 34,
   "id": "4e86340f",
   "metadata": {},
   "outputs": [],
   "source": [
    "myOtherDictionary = {1:2,\"b\":[1,43,\"5\"]}"
   ]
  },
  {
   "cell_type": "code",
   "execution_count": 38,
   "id": "9c81460f",
   "metadata": {},
   "outputs": [
    {
     "data": {
      "text/plain": [
       "43"
      ]
     },
     "execution_count": 38,
     "metadata": {},
     "output_type": "execute_result"
    }
   ],
   "source": [
    "myOtherDictionary[\"b\"][1]"
   ]
  },
  {
   "cell_type": "code",
   "execution_count": null,
   "id": "92b7bdb3",
   "metadata": {},
   "outputs": [],
   "source": [
    "\n"
   ]
  },
  {
   "cell_type": "code",
   "execution_count": 39,
   "id": "74e31cc7",
   "metadata": {},
   "outputs": [],
   "source": [
    "#set ve tupple lar "
   ]
  },
  {
   "cell_type": "code",
   "execution_count": 40,
   "id": "aa7a33bc",
   "metadata": {},
   "outputs": [],
   "source": [
    "mySet = {}"
   ]
  },
  {
   "cell_type": "code",
   "execution_count": 41,
   "id": "69c4de24",
   "metadata": {},
   "outputs": [
    {
     "data": {
      "text/plain": [
       "dict"
      ]
     },
     "execution_count": 41,
     "metadata": {},
     "output_type": "execute_result"
    }
   ],
   "source": [
    "type(mySet)"
   ]
  },
  {
   "cell_type": "code",
   "execution_count": 42,
   "id": "d5952777",
   "metadata": {},
   "outputs": [],
   "source": [
    "mySet = {1,24,543,}"
   ]
  },
  {
   "cell_type": "code",
   "execution_count": 43,
   "id": "f3b639e5",
   "metadata": {},
   "outputs": [
    {
     "data": {
      "text/plain": [
       "set"
      ]
     },
     "execution_count": 43,
     "metadata": {},
     "output_type": "execute_result"
    }
   ],
   "source": [
    "type(mySet)"
   ]
  },
  {
   "cell_type": "code",
   "execution_count": 44,
   "id": "a9e04118",
   "metadata": {},
   "outputs": [],
   "source": [
    "myEmptySet = set()"
   ]
  },
  {
   "cell_type": "code",
   "execution_count": 45,
   "id": "4b45a31b",
   "metadata": {},
   "outputs": [],
   "source": [
    "mySet = {1,1,1,1,1,1}"
   ]
  },
  {
   "cell_type": "code",
   "execution_count": 46,
   "id": "10cf4fb4",
   "metadata": {},
   "outputs": [
    {
     "data": {
      "text/plain": [
       "{1}"
      ]
     },
     "execution_count": 46,
     "metadata": {},
     "output_type": "execute_result"
    }
   ],
   "source": [
    "mySet"
   ]
  },
  {
   "cell_type": "code",
   "execution_count": 47,
   "id": "0458a9f4",
   "metadata": {},
   "outputs": [],
   "source": [
    "#tuppple"
   ]
  },
  {
   "cell_type": "code",
   "execution_count": 48,
   "id": "8ef2d27b",
   "metadata": {},
   "outputs": [],
   "source": [
    "myTupple = (2,4,5,6,42,54,)"
   ]
  },
  {
   "cell_type": "code",
   "execution_count": 49,
   "id": "752655b6",
   "metadata": {},
   "outputs": [
    {
     "data": {
      "text/plain": [
       "(2, 4, 5, 6, 42, 54)"
      ]
     },
     "execution_count": 49,
     "metadata": {},
     "output_type": "execute_result"
    }
   ],
   "source": [
    "myTupple"
   ]
  },
  {
   "cell_type": "code",
   "execution_count": 50,
   "id": "d1947c41",
   "metadata": {},
   "outputs": [],
   "source": [
    "#indexi sonradan değiştiremioyrsu "
   ]
  },
  {
   "cell_type": "code",
   "execution_count": 53,
   "id": "c0a64d6d",
   "metadata": {},
   "outputs": [
    {
     "data": {
      "text/plain": [
       "1"
      ]
     },
     "execution_count": 53,
     "metadata": {},
     "output_type": "execute_result"
    }
   ],
   "source": [
    "\n",
    "myTupple.count(2)"
   ]
  },
  {
   "cell_type": "code",
   "execution_count": 54,
   "id": "ddd64c36",
   "metadata": {},
   "outputs": [],
   "source": [
    "#tupple unpacking"
   ]
  },
  {
   "cell_type": "code",
   "execution_count": 55,
   "id": "ee7473f4",
   "metadata": {},
   "outputs": [],
   "source": [
    "(x,y) = (4,6)"
   ]
  },
  {
   "cell_type": "code",
   "execution_count": 56,
   "id": "0f82e2c4",
   "metadata": {},
   "outputs": [
    {
     "data": {
      "text/plain": [
       "4"
      ]
     },
     "execution_count": 56,
     "metadata": {},
     "output_type": "execute_result"
    }
   ],
   "source": [
    "x\n"
   ]
  },
  {
   "cell_type": "code",
   "execution_count": 57,
   "id": "6bdb6e6c",
   "metadata": {},
   "outputs": [],
   "source": [
    "(x,y) = (y,x)"
   ]
  },
  {
   "cell_type": "code",
   "execution_count": 58,
   "id": "d5c4a785",
   "metadata": {},
   "outputs": [
    {
     "data": {
      "text/plain": [
       "6"
      ]
     },
     "execution_count": 58,
     "metadata": {},
     "output_type": "execute_result"
    }
   ],
   "source": [
    "x\n"
   ]
  },
  {
   "cell_type": "code",
   "execution_count": 59,
   "id": "5cd33550",
   "metadata": {},
   "outputs": [
    {
     "data": {
      "text/plain": [
       "4"
      ]
     },
     "execution_count": 59,
     "metadata": {},
     "output_type": "execute_result"
    }
   ],
   "source": [
    "y"
   ]
  },
  {
   "cell_type": "code",
   "execution_count": 60,
   "id": "3b03dd3d",
   "metadata": {},
   "outputs": [],
   "source": [
    "#casting"
   ]
  },
  {
   "cell_type": "code",
   "execution_count": 61,
   "id": "8e168542",
   "metadata": {},
   "outputs": [],
   "source": [
    "myInt = 10"
   ]
  },
  {
   "cell_type": "code",
   "execution_count": 62,
   "id": "cd3827ad",
   "metadata": {},
   "outputs": [
    {
     "data": {
      "text/plain": [
       "'10'"
      ]
     },
     "execution_count": 62,
     "metadata": {},
     "output_type": "execute_result"
    }
   ],
   "source": [
    "str(myInt)"
   ]
  },
  {
   "cell_type": "code",
   "execution_count": 63,
   "id": "5faa8d3d",
   "metadata": {},
   "outputs": [
    {
     "data": {
      "text/plain": [
       "50"
      ]
     },
     "execution_count": 63,
     "metadata": {},
     "output_type": "execute_result"
    }
   ],
   "source": [
    "int(\"50\")"
   ]
  },
  {
   "cell_type": "code",
   "execution_count": 64,
   "id": "256c5eed",
   "metadata": {},
   "outputs": [],
   "source": [
    "#kullanıcının yaşını alma"
   ]
  },
  {
   "cell_type": "code",
   "execution_count": 65,
   "id": "f7c1a9b7",
   "metadata": {},
   "outputs": [
    {
     "name": "stdout",
     "output_type": "stream",
     "text": [
      "enter age: 28\n"
     ]
    }
   ],
   "source": [
    "userAge = input(\"enter age: \")"
   ]
  },
  {
   "cell_type": "code",
   "execution_count": 66,
   "id": "95b59438",
   "metadata": {},
   "outputs": [
    {
     "data": {
      "text/plain": [
       "'28'"
      ]
     },
     "execution_count": 66,
     "metadata": {},
     "output_type": "execute_result"
    }
   ],
   "source": [
    "userAge"
   ]
  },
  {
   "cell_type": "code",
   "execution_count": 67,
   "id": "64dd6db9",
   "metadata": {},
   "outputs": [
    {
     "data": {
      "text/plain": [
       "'2828'"
      ]
     },
     "execution_count": 67,
     "metadata": {},
     "output_type": "execute_result"
    }
   ],
   "source": [
    "userAge*2"
   ]
  },
  {
   "cell_type": "code",
   "execution_count": 68,
   "id": "be27cff8",
   "metadata": {},
   "outputs": [
    {
     "data": {
      "text/plain": [
       "56"
      ]
     },
     "execution_count": 68,
     "metadata": {},
     "output_type": "execute_result"
    }
   ],
   "source": [
    "int(userAge)*2"
   ]
  },
  {
   "cell_type": "code",
   "execution_count": 69,
   "id": "22128014",
   "metadata": {},
   "outputs": [],
   "source": [
    "#Error Handling\n"
   ]
  },
  {
   "cell_type": "code",
   "execution_count": 70,
   "id": "56143332",
   "metadata": {},
   "outputs": [
    {
     "data": {
      "text/plain": [
       "list"
      ]
     },
     "execution_count": 70,
     "metadata": {},
     "output_type": "execute_result"
    }
   ],
   "source": [
    "list"
   ]
  },
  {
   "cell_type": "code",
   "execution_count": 72,
   "id": "c14730ae",
   "metadata": {},
   "outputs": [],
   "source": [
    "\n",
    "myList = [3254,54,534,524,534,1,11,1,1,1,1,1]"
   ]
  },
  {
   "cell_type": "code",
   "execution_count": 73,
   "id": "5ac894c5",
   "metadata": {},
   "outputs": [],
   "source": [
    "mySet = myList"
   ]
  },
  {
   "cell_type": "code",
   "execution_count": 75,
   "id": "85b95395",
   "metadata": {},
   "outputs": [
    {
     "data": {
      "text/plain": [
       "[3254, 54, 534, 524, 534, 1, 11, 1, 1, 1, 1, 1]"
      ]
     },
     "execution_count": 75,
     "metadata": {},
     "output_type": "execute_result"
    }
   ],
   "source": [
    "mySet"
   ]
  },
  {
   "cell_type": "markdown",
   "id": "f3360db8",
   "metadata": {},
   "source": []
  },
  {
   "cell_type": "code",
   "execution_count": 77,
   "id": "aa230dbf",
   "metadata": {},
   "outputs": [],
   "source": [
    "mySet = set(myList)"
   ]
  },
  {
   "cell_type": "code",
   "execution_count": 78,
   "id": "cc2a3e62",
   "metadata": {},
   "outputs": [
    {
     "data": {
      "text/plain": [
       "{1, 11, 54, 524, 534, 3254}"
      ]
     },
     "execution_count": 78,
     "metadata": {},
     "output_type": "execute_result"
    }
   ],
   "source": [
    "mySet"
   ]
  },
  {
   "cell_type": "code",
   "execution_count": null,
   "id": "f87379e0",
   "metadata": {},
   "outputs": [],
   "source": []
  },
  {
   "cell_type": "code",
   "execution_count": 80,
   "id": "d1c54cd8",
   "metadata": {},
   "outputs": [],
   "source": [
    "try:\n",
    "    int(\"10\")\n",
    "except:\n",
    "    print(\"error\")"
   ]
  },
  {
   "cell_type": "code",
   "execution_count": 87,
   "id": "fba87c53",
   "metadata": {},
   "outputs": [
    {
     "name": "stdout",
     "output_type": "stream",
     "text": [
      "enter age: ENES\n"
     ]
    }
   ],
   "source": [
    "userAge = input(\"enter age: \")"
   ]
  },
  {
   "cell_type": "code",
   "execution_count": 88,
   "id": "9238fd72",
   "metadata": {},
   "outputs": [
    {
     "name": "stdout",
     "output_type": "stream",
     "text": [
      "enter age!!\n"
     ]
    }
   ],
   "source": [
    "try:\n",
    "    print(int(userAge))\n",
    "except:\n",
    "    print(\"enter age!!\")"
   ]
  },
  {
   "cell_type": "code",
   "execution_count": null,
   "id": "afc9d24e",
   "metadata": {},
   "outputs": [],
   "source": []
  }
 ],
 "metadata": {
  "kernelspec": {
   "display_name": "Python 3 (ipykernel)",
   "language": "python",
   "name": "python3"
  },
  "language_info": {
   "codemirror_mode": {
    "name": "ipython",
    "version": 3
   },
   "file_extension": ".py",
   "mimetype": "text/x-python",
   "name": "python",
   "nbconvert_exporter": "python",
   "pygments_lexer": "ipython3",
   "version": "3.11.3"
  }
 },
 "nbformat": 4,
 "nbformat_minor": 5
}
