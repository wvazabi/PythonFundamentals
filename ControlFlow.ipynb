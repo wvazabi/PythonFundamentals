{
 "cells": [
  {
   "cell_type": "code",
   "execution_count": 1,
   "id": "f6d4dcf8",
   "metadata": {},
   "outputs": [
    {
     "data": {
      "text/plain": [
       "True"
      ]
     },
     "execution_count": 1,
     "metadata": {},
     "output_type": "execute_result"
    }
   ],
   "source": [
    "4>3"
   ]
  },
  {
   "cell_type": "code",
   "execution_count": 2,
   "id": "cbae18c1",
   "metadata": {},
   "outputs": [],
   "source": [
    "#remainder\n"
   ]
  },
  {
   "cell_type": "code",
   "execution_count": 3,
   "id": "0a04fe96",
   "metadata": {},
   "outputs": [
    {
     "data": {
      "text/plain": [
       "1"
      ]
     },
     "execution_count": 3,
     "metadata": {},
     "output_type": "execute_result"
    }
   ],
   "source": [
    "10%3"
   ]
  },
  {
   "cell_type": "code",
   "execution_count": 7,
   "id": "3d1b1dfa",
   "metadata": {},
   "outputs": [],
   "source": [
    "x = 333"
   ]
  },
  {
   "cell_type": "code",
   "execution_count": 8,
   "id": "19ebb8dd",
   "metadata": {},
   "outputs": [
    {
     "name": "stdout",
     "output_type": "stream",
     "text": [
      "333\n"
     ]
    }
   ],
   "source": [
    "if x > 100:\n",
    "    print(x)"
   ]
  },
  {
   "cell_type": "code",
   "execution_count": 9,
   "id": "113f70a3",
   "metadata": {},
   "outputs": [],
   "source": [
    "#if elif else"
   ]
  },
  {
   "cell_type": "code",
   "execution_count": 10,
   "id": "0530c8c4",
   "metadata": {},
   "outputs": [],
   "source": [
    "myAge = 28"
   ]
  },
  {
   "cell_type": "code",
   "execution_count": 11,
   "id": "b27e8c15",
   "metadata": {},
   "outputs": [
    {
     "name": "stdout",
     "output_type": "stream",
     "text": [
      "my age is: {myAge}\n"
     ]
    }
   ],
   "source": [
    "print(\"my age is: {myAge}\")"
   ]
  },
  {
   "cell_type": "code",
   "execution_count": 13,
   "id": "bcbcb90a",
   "metadata": {},
   "outputs": [
    {
     "name": "stdout",
     "output_type": "stream",
     "text": [
      "my age is: 28\n"
     ]
    }
   ],
   "source": [
    "print(f\"my age is: {myAge}\")#formatted string"
   ]
  },
  {
   "cell_type": "markdown",
   "id": "855edfb7",
   "metadata": {},
   "source": []
  },
  {
   "cell_type": "code",
   "execution_count": 14,
   "id": "7830cea0",
   "metadata": {},
   "outputs": [],
   "source": [
    "\n",
    "myList = [1,3,5,6,54,4]"
   ]
  },
  {
   "cell_type": "code",
   "execution_count": 19,
   "id": "11ba93d8",
   "metadata": {},
   "outputs": [
    {
     "name": "stdout",
     "output_type": "stream",
     "text": [
      "1\n",
      "9\n",
      "25\n",
      "36\n",
      "2916\n",
      "16\n"
     ]
    }
   ],
   "source": [
    "for number in myList:\n",
    "    print(number*number)"
   ]
  },
  {
   "cell_type": "code",
   "execution_count": 21,
   "id": "db3f783f",
   "metadata": {},
   "outputs": [
    {
     "data": {
      "text/plain": [
       "True"
      ]
     },
     "execution_count": 21,
     "metadata": {},
     "output_type": "execute_result"
    }
   ],
   "source": [
    "54 in myList\n"
   ]
  },
  {
   "cell_type": "code",
   "execution_count": 23,
   "id": "cbe52195",
   "metadata": {},
   "outputs": [
    {
     "data": {
      "text/plain": [
       "True"
      ]
     },
     "execution_count": 23,
     "metadata": {},
     "output_type": "execute_result"
    }
   ],
   "source": [
    "\"a\" in \"ananas\""
   ]
  },
  {
   "cell_type": "code",
   "execution_count": null,
   "id": "86dc9e9f",
   "metadata": {},
   "outputs": [],
   "source": []
  },
  {
   "cell_type": "code",
   "execution_count": 24,
   "id": "49456dd8",
   "metadata": {},
   "outputs": [],
   "source": [
    "m = 0\n"
   ]
  },
  {
   "cell_type": "code",
   "execution_count": 26,
   "id": "9a7ef1c4",
   "metadata": {},
   "outputs": [
    {
     "name": "stdout",
     "output_type": "stream",
     "text": [
      "0\n",
      "1\n",
      "2\n",
      "3\n",
      "4\n",
      "5\n",
      "6\n",
      "7\n",
      "8\n",
      "9\n"
     ]
    }
   ],
   "source": [
    "while m < 10:\n",
    "    print(m)\n",
    "    m += 1"
   ]
  },
  {
   "cell_type": "code",
   "execution_count": null,
   "id": "e59d5a44",
   "metadata": {},
   "outputs": [],
   "source": [
    "\n"
   ]
  }
 ],
 "metadata": {
  "kernelspec": {
   "display_name": "Python 3 (ipykernel)",
   "language": "python",
   "name": "python3"
  },
  "language_info": {
   "codemirror_mode": {
    "name": "ipython",
    "version": 3
   },
   "file_extension": ".py",
   "mimetype": "text/x-python",
   "name": "python",
   "nbconvert_exporter": "python",
   "pygments_lexer": "ipython3",
   "version": "3.11.3"
  }
 },
 "nbformat": 4,
 "nbformat_minor": 5
}
