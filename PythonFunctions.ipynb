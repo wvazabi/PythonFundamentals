{
 "cells": [
  {
   "cell_type": "code",
   "execution_count": 1,
   "id": "5321d60e",
   "metadata": {},
   "outputs": [],
   "source": [
    "#range\n"
   ]
  },
  {
   "cell_type": "code",
   "execution_count": 2,
   "id": "89e22760",
   "metadata": {},
   "outputs": [
    {
     "data": {
      "text/plain": [
       "range(50, 60)"
      ]
     },
     "execution_count": 2,
     "metadata": {},
     "output_type": "execute_result"
    }
   ],
   "source": [
    "range(50,60)"
   ]
  },
  {
   "cell_type": "code",
   "execution_count": 3,
   "id": "58c59880",
   "metadata": {},
   "outputs": [
    {
     "data": {
      "text/plain": [
       "[50, 51, 52, 53, 54, 55, 56, 57, 58, 59]"
      ]
     },
     "execution_count": 3,
     "metadata": {},
     "output_type": "execute_result"
    }
   ],
   "source": [
    "list(range(50,60))"
   ]
  },
  {
   "cell_type": "code",
   "execution_count": 5,
   "id": "eb964194",
   "metadata": {},
   "outputs": [],
   "source": [
    "myList = [\"s\",\"f\",\"3\",\"f\"]"
   ]
  },
  {
   "cell_type": "code",
   "execution_count": 8,
   "id": "5f1d2681",
   "metadata": {},
   "outputs": [
    {
     "name": "stdout",
     "output_type": "stream",
     "text": [
      "0\n",
      "1\n",
      "2\n",
      "3\n"
     ]
    }
   ],
   "source": [
    "for num in range(0,len(myList)):\n",
    "    print(num)"
   ]
  },
  {
   "cell_type": "markdown",
   "id": "dbde99da",
   "metadata": {},
   "source": []
  },
  {
   "cell_type": "code",
   "execution_count": 9,
   "id": "5328445a",
   "metadata": {},
   "outputs": [],
   "source": [
    "#enumarate\n"
   ]
  },
  {
   "cell_type": "code",
   "execution_count": 10,
   "id": "c718817b",
   "metadata": {},
   "outputs": [],
   "source": [
    "myList = range(5,15)"
   ]
  },
  {
   "cell_type": "code",
   "execution_count": 11,
   "id": "85a31865",
   "metadata": {},
   "outputs": [
    {
     "data": {
      "text/plain": [
       "range(5, 15)"
      ]
     },
     "execution_count": 11,
     "metadata": {},
     "output_type": "execute_result"
    }
   ],
   "source": [
    "myList"
   ]
  },
  {
   "cell_type": "code",
   "execution_count": 14,
   "id": "604233ea",
   "metadata": {},
   "outputs": [],
   "source": [
    "myList = list(range(5,15))"
   ]
  },
  {
   "cell_type": "markdown",
   "id": "6654294a",
   "metadata": {},
   "source": [
    "\n"
   ]
  },
  {
   "cell_type": "code",
   "execution_count": 15,
   "id": "e7ce5bda",
   "metadata": {},
   "outputs": [
    {
     "data": {
      "text/plain": [
       "[5, 6, 7, 8, 9, 10, 11, 12, 13, 14]"
      ]
     },
     "execution_count": 15,
     "metadata": {},
     "output_type": "execute_result"
    }
   ],
   "source": [
    "myList"
   ]
  },
  {
   "cell_type": "code",
   "execution_count": 16,
   "id": "2413c710",
   "metadata": {},
   "outputs": [
    {
     "name": "stdout",
     "output_type": "stream",
     "text": [
      "(0, 5)\n",
      "(1, 6)\n",
      "(2, 7)\n",
      "(3, 8)\n",
      "(4, 9)\n",
      "(5, 10)\n",
      "(6, 11)\n",
      "(7, 12)\n",
      "(8, 13)\n",
      "(9, 14)\n"
     ]
    }
   ],
   "source": [
    "for element in enumerate(myList):\n",
    "    print(element)"
   ]
  },
  {
   "cell_type": "code",
   "execution_count": 17,
   "id": "154b83fd",
   "metadata": {},
   "outputs": [
    {
     "name": "stdout",
     "output_type": "stream",
     "text": [
      "number = 5 index = 0\n",
      "number = 6 index = 1\n",
      "number = 7 index = 2\n",
      "number = 8 index = 3\n",
      "number = 9 index = 4\n",
      "number = 10 index = 5\n",
      "number = 11 index = 6\n",
      "number = 12 index = 7\n",
      "number = 13 index = 8\n",
      "number = 14 index = 9\n"
     ]
    }
   ],
   "source": [
    "for (index,number) in enumerate(myList):\n",
    "    print(f\"number = {number} index = {index}\")"
   ]
  },
  {
   "cell_type": "code",
   "execution_count": 18,
   "id": "af9eb61a",
   "metadata": {},
   "outputs": [],
   "source": [
    "myString = \"Enes KAYA\""
   ]
  },
  {
   "cell_type": "code",
   "execution_count": 19,
   "id": "1bc81749",
   "metadata": {},
   "outputs": [],
   "source": [
    "    newList = [element for element in myString]"
   ]
  },
  {
   "cell_type": "code",
   "execution_count": 20,
   "id": "7e33ab8f",
   "metadata": {},
   "outputs": [
    {
     "data": {
      "text/plain": [
       "['E', 'n', 'e', 's', ' ', 'K', 'A', 'Y', 'A']"
      ]
     },
     "execution_count": 20,
     "metadata": {},
     "output_type": "execute_result"
    }
   ],
   "source": [
    "newList"
   ]
  },
  {
   "cell_type": "code",
   "execution_count": 21,
   "id": "80826b2d",
   "metadata": {},
   "outputs": [],
   "source": [
    "#functions"
   ]
  },
  {
   "cell_type": "code",
   "execution_count": 23,
   "id": "158e3644",
   "metadata": {},
   "outputs": [],
   "source": [
    "def helloWorld():\n",
    "    print(\"hello python\")"
   ]
  },
  {
   "cell_type": "code",
   "execution_count": 24,
   "id": "23eedc67",
   "metadata": {},
   "outputs": [
    {
     "name": "stdout",
     "output_type": "stream",
     "text": [
      "hello python\n"
     ]
    }
   ],
   "source": [
    "helloWorld()"
   ]
  },
  {
   "cell_type": "code",
   "execution_count": 26,
   "id": "359c317b",
   "metadata": {},
   "outputs": [],
   "source": [
    "def helloName(name):\n",
    "    print(f\"hello {name}\")"
   ]
  },
  {
   "cell_type": "code",
   "execution_count": 27,
   "id": "4d38a837",
   "metadata": {},
   "outputs": [
    {
     "name": "stdout",
     "output_type": "stream",
     "text": [
      "hello enes\n"
     ]
    }
   ],
   "source": [
    "helloName(\"enes\")"
   ]
  },
  {
   "cell_type": "code",
   "execution_count": 29,
   "id": "65a7b79d",
   "metadata": {},
   "outputs": [],
   "source": [
    "def pythonSum(num1,num2):\n",
    "    print(num1+num2)"
   ]
  },
  {
   "cell_type": "code",
   "execution_count": 30,
   "id": "2437b767",
   "metadata": {},
   "outputs": [
    {
     "name": "stdout",
     "output_type": "stream",
     "text": [
      "6\n"
     ]
    }
   ],
   "source": [
    "pythonSum(2,4)"
   ]
  },
  {
   "cell_type": "code",
   "execution_count": 32,
   "id": "bc1cf32d",
   "metadata": {},
   "outputs": [],
   "source": [
    "def pythonSum2(num1,num2):\n",
    "    print(num1+num2)\n",
    "    return num1+num2"
   ]
  },
  {
   "cell_type": "code",
   "execution_count": 33,
   "id": "78a51404",
   "metadata": {},
   "outputs": [
    {
     "name": "stdout",
     "output_type": "stream",
     "text": [
      "8\n"
     ]
    }
   ],
   "source": [
    "x = pythonSum2(3,5)"
   ]
  },
  {
   "cell_type": "code",
   "execution_count": 34,
   "id": "b29af928",
   "metadata": {},
   "outputs": [
    {
     "data": {
      "text/plain": [
       "8"
      ]
     },
     "execution_count": 34,
     "metadata": {},
     "output_type": "execute_result"
    }
   ],
   "source": [
    "x"
   ]
  },
  {
   "cell_type": "code",
   "execution_count": 36,
   "id": "eb1bd5e5",
   "metadata": {},
   "outputs": [
    {
     "data": {
      "text/plain": [
       "int"
      ]
     },
     "execution_count": 36,
     "metadata": {},
     "output_type": "execute_result"
    }
   ],
   "source": [
    "type(x)"
   ]
  },
  {
   "cell_type": "code",
   "execution_count": 38,
   "id": "862dfd21",
   "metadata": {},
   "outputs": [],
   "source": [
    "def defaultValu(name = \"enes\"):\n",
    "    print(name)"
   ]
  },
  {
   "cell_type": "code",
   "execution_count": 39,
   "id": "73dc4faf",
   "metadata": {},
   "outputs": [
    {
     "name": "stdout",
     "output_type": "stream",
     "text": [
      "kiraz\n"
     ]
    }
   ],
   "source": [
    "defaultValu(\"kiraz\")\n"
   ]
  },
  {
   "cell_type": "code",
   "execution_count": 40,
   "id": "3c7f0ecb",
   "metadata": {},
   "outputs": [
    {
     "name": "stdout",
     "output_type": "stream",
     "text": [
      "enes\n"
     ]
    }
   ],
   "source": [
    "defaultValu()"
   ]
  },
  {
   "cell_type": "code",
   "execution_count": null,
   "id": "9ad20392",
   "metadata": {},
   "outputs": [],
   "source": []
  }
 ],
 "metadata": {
  "kernelspec": {
   "display_name": "Python 3 (ipykernel)",
   "language": "python",
   "name": "python3"
  },
  "language_info": {
   "codemirror_mode": {
    "name": "ipython",
    "version": 3
   },
   "file_extension": ".py",
   "mimetype": "text/x-python",
   "name": "python",
   "nbconvert_exporter": "python",
   "pygments_lexer": "ipython3",
   "version": "3.11.3"
  }
 },
 "nbformat": 4,
 "nbformat_minor": 5
}
