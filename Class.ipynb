{
 "cells": [
  {
   "cell_type": "code",
   "execution_count": 34,
   "id": "6f31cf6c",
   "metadata": {},
   "outputs": [],
   "source": [
    "class Musician():\n",
    "    name = \"\"\n",
    "    def __init__(self,name):\n",
    "            self.name = name\n",
    "            \n",
    "    def sing(self):\n",
    "        print(\"la lala lalala\")\n",
    "        "
   ]
  },
  {
   "cell_type": "code",
   "execution_count": 24,
   "id": "e5c170c1",
   "metadata": {},
   "outputs": [],
   "source": [
    "enes = Musician(\"enes\")"
   ]
  },
  {
   "cell_type": "code",
   "execution_count": 25,
   "id": "c1cee4fe",
   "metadata": {},
   "outputs": [
    {
     "data": {
      "text/plain": [
       "'enes'"
      ]
     },
     "execution_count": 25,
     "metadata": {},
     "output_type": "execute_result"
    }
   ],
   "source": [
    "enes.name"
   ]
  },
  {
   "cell_type": "code",
   "execution_count": null,
   "id": "513dd020",
   "metadata": {},
   "outputs": [],
   "source": []
  },
  {
   "cell_type": "code",
   "execution_count": 26,
   "id": "cc24ea39",
   "metadata": {},
   "outputs": [
    {
     "data": {
      "text/plain": [
       "'enes'"
      ]
     },
     "execution_count": 26,
     "metadata": {},
     "output_type": "execute_result"
    }
   ],
   "source": [
    "enes.name"
   ]
  },
  {
   "cell_type": "code",
   "execution_count": null,
   "id": "0037344c",
   "metadata": {},
   "outputs": [],
   "source": []
  },
  {
   "cell_type": "code",
   "execution_count": 27,
   "id": "b63c0cbc",
   "metadata": {},
   "outputs": [],
   "source": [
    "nilay = Musician(\"Nilay\")"
   ]
  },
  {
   "cell_type": "code",
   "execution_count": 28,
   "id": "0e43b034",
   "metadata": {},
   "outputs": [
    {
     "data": {
      "text/plain": [
       "'Nilay'"
      ]
     },
     "execution_count": 28,
     "metadata": {},
     "output_type": "execute_result"
    }
   ],
   "source": [
    "nilay.name"
   ]
  },
  {
   "cell_type": "code",
   "execution_count": 35,
   "id": "e6a6ff46",
   "metadata": {},
   "outputs": [],
   "source": [
    "james = Musician(\"james\")"
   ]
  },
  {
   "cell_type": "code",
   "execution_count": 37,
   "id": "8aec0f06",
   "metadata": {},
   "outputs": [
    {
     "name": "stdout",
     "output_type": "stream",
     "text": [
      "la lala lalala\n"
     ]
    }
   ],
   "source": [
    "james.sing()"
   ]
  },
  {
   "cell_type": "code",
   "execution_count": 38,
   "id": "744aac02",
   "metadata": {},
   "outputs": [],
   "source": [
    "#inheritance"
   ]
  },
  {
   "cell_type": "code",
   "execution_count": 40,
   "id": "a4d2b091",
   "metadata": {},
   "outputs": [],
   "source": [
    "class Class1():\n",
    "    def __init__(self):\n",
    "        print(\"created class1\")\n",
    "    def method1(self):\n",
    "        print(\"method1 called\")"
   ]
  },
  {
   "cell_type": "code",
   "execution_count": 41,
   "id": "f91e0d73",
   "metadata": {},
   "outputs": [
    {
     "name": "stdout",
     "output_type": "stream",
     "text": [
      "created class1\n"
     ]
    }
   ],
   "source": [
    "dummyClass1 = Class1() "
   ]
  },
  {
   "cell_type": "code",
   "execution_count": 43,
   "id": "db40cf65",
   "metadata": {},
   "outputs": [
    {
     "name": "stdout",
     "output_type": "stream",
     "text": [
      "method1 called\n"
     ]
    }
   ],
   "source": [
    "dummyClass1.method1()"
   ]
  },
  {
   "cell_type": "code",
   "execution_count": 51,
   "id": "c538d57a",
   "metadata": {},
   "outputs": [],
   "source": [
    "class Class2(Class1):\n",
    "    def __init__(self):\n",
    "        print(\"class2 created\")\n",
    "        Class1.__init__(self)\n",
    "        "
   ]
  },
  {
   "cell_type": "code",
   "execution_count": 48,
   "id": "fb998e22",
   "metadata": {},
   "outputs": [
    {
     "name": "stdout",
     "output_type": "stream",
     "text": [
      "class2 created\n"
     ]
    }
   ],
   "source": [
    "class2 = Class2()"
   ]
  },
  {
   "cell_type": "code",
   "execution_count": 50,
   "id": "f2c0c971",
   "metadata": {},
   "outputs": [
    {
     "name": "stdout",
     "output_type": "stream",
     "text": [
      "method1 called\n"
     ]
    }
   ],
   "source": [
    "class2.method1()"
   ]
  },
  {
   "cell_type": "code",
   "execution_count": 52,
   "id": "ba346fbc",
   "metadata": {},
   "outputs": [
    {
     "name": "stdout",
     "output_type": "stream",
     "text": [
      "class2 created\n",
      "created class1\n"
     ]
    }
   ],
   "source": [
    "class2init = Class2()"
   ]
  },
  {
   "cell_type": "code",
   "execution_count": 53,
   "id": "eb3fc96c",
   "metadata": {},
   "outputs": [],
   "source": [
    "#polymorphism"
   ]
  },
  {
   "cell_type": "code",
   "execution_count": 54,
   "id": "05e310e6",
   "metadata": {},
   "outputs": [],
   "source": [
    "#scope kapsam bu parantezlerin içi "
   ]
  },
  {
   "cell_type": "code",
   "execution_count": 55,
   "id": "b5916647",
   "metadata": {},
   "outputs": [],
   "source": [
    "number = 10"
   ]
  },
  {
   "cell_type": "code",
   "execution_count": 56,
   "id": "348618c1",
   "metadata": {},
   "outputs": [
    {
     "name": "stdout",
     "output_type": "stream",
     "text": [
      "10\n"
     ]
    }
   ],
   "source": [
    "print(number)"
   ]
  },
  {
   "cell_type": "code",
   "execution_count": 57,
   "id": "19a6f26b",
   "metadata": {},
   "outputs": [],
   "source": [
    "#legb -> l ->local e -> enclosing g-> global b-> built in "
   ]
  },
  {
   "cell_type": "code",
   "execution_count": null,
   "id": "aeaf3774",
   "metadata": {},
   "outputs": [],
   "source": []
  }
 ],
 "metadata": {
  "kernelspec": {
   "display_name": "Python 3 (ipykernel)",
   "language": "python",
   "name": "python3"
  },
  "language_info": {
   "codemirror_mode": {
    "name": "ipython",
    "version": 3
   },
   "file_extension": ".py",
   "mimetype": "text/x-python",
   "name": "python",
   "nbconvert_exporter": "python",
   "pygments_lexer": "ipython3",
   "version": "3.11.3"
  }
 },
 "nbformat": 4,
 "nbformat_minor": 5
}
